{
 "cells": [
  {
   "cell_type": "code",
   "execution_count": 1,
   "metadata": {
    "collapsed": true
   },
   "outputs": [],
   "source": [
    "import csv\n",
    "from collections import defaultdict\n",
    "\n",
    "import re\n",
    "from datetime import datetime"
   ]
  },
  {
   "cell_type": "code",
   "execution_count": 2,
   "metadata": {
    "collapsed": true
   },
   "outputs": [],
   "source": [
    "gender = r'(\\b[Mm]ale)|(\\b[Ff]emale)|(\\bFEMALE)|(\\bMALE)'\n",
    "#gender = 'Female'or'Male'or'female'or'male'or'FEMALE'or'MALE'\n",
    "\n",
    "Date = r'(([A-Z0-9][A-Z0-9]?[/])?[A-Z0-9][A-Z0-9]?[/][A-Z0-9][A-Z0-9][A-Z0-9]?[A-Z0-9]?)|([A-Za-z][A-Za-z][A-Za-z]\\s..?[,]\\s....)'\n",
    "\n",
    "DOB  = r'DOB|[Dd][aA][tT][eE]\\s[oO][fF]\\s[Bb][iI][rR][tT][hH]'\n",
    "\n",
    "year=r'\\b(19|20)\\d{2}\\b'\n",
    "\n",
    "product_type = r'(\\b[Pp]roduct\\s[Tt]ype):\\s?.*'\n",
    "\n",
    "faceamount = r'(\\b[Ff]ace\\s?[Aa]mount:?\\s?.*)'"
   ]
  },
  {
   "cell_type": "code",
   "execution_count": 4,
   "metadata": {},
   "outputs": [],
   "source": [
    "def reg(st,i):\n",
    "    x=0\n",
    "    x1=0\n",
    "    y=0\n",
    "    z=0\n",
    "    w=0\n",
    "    for line in st: #iterate through every line\n",
    "        #return list of entities in that line\n",
    "        if(re.search(Date.decode('utf-8'), line.decode('utf-8'), re.I | re.U)):\n",
    "            x = re.search(Date.decode('utf-8'), line.decode('utf-8'), re.I | re.U) \n",
    "            print (x.group(0)+\"\\n\")\n",
    "            #print x.groups()\n",
    "            data[i][0]=(x.group(0))\n",
    "        else:\n",
    "            data[i][0]=-1\n",
    "\n",
    "        if(re.search(year.decode('utf-8'), line.decode('utf-8'), re.I | re.U)):\n",
    "            x1 = re.search(year.decode('utf-8'), line.decode('utf-8'), re.I | re.U)\n",
    "            print (x1.group(0))\n",
    "            data[i][1]=x1.group(0)\n",
    "        else:\n",
    "            data[i][1]=-1\n",
    "\n",
    "        if(x1 and re.search(DOB.decode('utf-8'), line.decode('utf-8'), re.I | re.U)):\n",
    "            print (\"DOB:\"+x1.group(0))\n",
    "            currentYear = datetime.now().year\n",
    "            print (currentYear-(int)(x1.group(0)))\n",
    "            data[i][2]=((currentYear-(int)(x1.group(0))))\n",
    "        else:\n",
    "            data[i][2]=-1\n",
    "            \n",
    "        if(re.search(gender.decode('utf-8'), line.decode('utf-8'), re.I | re.U)):\n",
    "            y = re.search(gender.decode('utf-8'), line.decode('utf-8'), re.I | re.U)\n",
    "            print (y.group(0)+\"\\n\")\n",
    "            data[i][3]=(y.group(0))\n",
    "        else:\n",
    "            data[i][3]=-1\n",
    "\n",
    "        if(re.search(product_type.decode('utf-8'), line.decode('utf-8'), re.I | re.U)): \n",
    "            z=re.search(product_type.decode('utf-8'), line.decode('utf-8'), re.I | re.U)\n",
    "            print (z.group(0)+\"\\n\")\n",
    "            data[i][4]=(z.group(0))\n",
    "        else:\n",
    "            data[i][4]=-1\n",
    "\n",
    "        if(re.search(faceamount.decode('utf-8'), line.decode('utf-8'), re.I | re.U)):\n",
    "            w = re.search(faceamount.decode('utf-8'), line.decode('utf-8'), re.I | re.U)\n",
    "            print (w.group(0)+\"\\n\")\n",
    "            data[i][5]=(w.group(0))\n",
    "        else:\n",
    "            data[i][5]=-1\n",
    "             \n",
    "    wtr.writerows(data)"
   ]
  },
  {
   "cell_type": "code",
   "execution_count": 8,
   "metadata": {},
   "outputs": [
    {
     "name": "stdout",
     "output_type": "stream",
     "text": [
      "\n",
      "----------------------------------------------\n"
     ]
    },
    {
     "ename": "AttributeError",
     "evalue": "'str' object has no attribute 'decode'",
     "output_type": "error",
     "traceback": [
      "\u001b[1;31m---------------------------------------------------------------------------\u001b[0m",
      "\u001b[1;31mAttributeError\u001b[0m                            Traceback (most recent call last)",
      "\u001b[1;32m<ipython-input-8-e3250badacd2>\u001b[0m in \u001b[0;36m<module>\u001b[1;34m()\u001b[0m\n\u001b[0;32m     14\u001b[0m         \u001b[0mprint\u001b[0m\u001b[1;33m(\u001b[0m\u001b[1;34m'\\n----------------------------------------------'\u001b[0m\u001b[1;33m)\u001b[0m\u001b[1;33m\u001b[0m\u001b[0m\n\u001b[0;32m     15\u001b[0m         \u001b[0mst\u001b[0m\u001b[1;33m.\u001b[0m\u001b[0mappend\u001b[0m\u001b[1;33m(\u001b[0m\u001b[0mrow\u001b[0m\u001b[1;33m[\u001b[0m\u001b[1;36m8\u001b[0m\u001b[1;33m]\u001b[0m\u001b[1;33m)\u001b[0m\u001b[1;33m\u001b[0m\u001b[0m\n\u001b[1;32m---> 16\u001b[1;33m         \u001b[0mreg\u001b[0m\u001b[1;33m(\u001b[0m\u001b[0mst\u001b[0m\u001b[1;33m,\u001b[0m\u001b[0mi\u001b[0m\u001b[1;33m)\u001b[0m\u001b[1;33m\u001b[0m\u001b[0m\n\u001b[0m\u001b[0;32m     17\u001b[0m         \u001b[1;31m#i+=1\u001b[0m\u001b[1;33m\u001b[0m\u001b[1;33m\u001b[0m\u001b[0m\n\u001b[0;32m     18\u001b[0m         \u001b[0mst\u001b[0m\u001b[1;33m=\u001b[0m\u001b[1;33m[\u001b[0m\u001b[1;33m]\u001b[0m\u001b[1;33m\u001b[0m\u001b[0m\n",
      "\u001b[1;32m<ipython-input-4-11548637ba70>\u001b[0m in \u001b[0;36mreg\u001b[1;34m(st, i)\u001b[0m\n\u001b[0;32m      7\u001b[0m     \u001b[1;32mfor\u001b[0m \u001b[0mline\u001b[0m \u001b[1;32min\u001b[0m \u001b[0mst\u001b[0m\u001b[1;33m:\u001b[0m \u001b[1;31m#iterate through every line\u001b[0m\u001b[1;33m\u001b[0m\u001b[0m\n\u001b[0;32m      8\u001b[0m         \u001b[1;31m#return list of entities in that line\u001b[0m\u001b[1;33m\u001b[0m\u001b[1;33m\u001b[0m\u001b[0m\n\u001b[1;32m----> 9\u001b[1;33m         \u001b[1;32mif\u001b[0m\u001b[1;33m(\u001b[0m\u001b[0mre\u001b[0m\u001b[1;33m.\u001b[0m\u001b[0msearch\u001b[0m\u001b[1;33m(\u001b[0m\u001b[0mDate\u001b[0m\u001b[1;33m.\u001b[0m\u001b[0mdecode\u001b[0m\u001b[1;33m(\u001b[0m\u001b[1;34m'utf-8'\u001b[0m\u001b[1;33m)\u001b[0m\u001b[1;33m,\u001b[0m \u001b[0mline\u001b[0m\u001b[1;33m.\u001b[0m\u001b[0mdecode\u001b[0m\u001b[1;33m(\u001b[0m\u001b[1;34m'utf-8'\u001b[0m\u001b[1;33m)\u001b[0m\u001b[1;33m,\u001b[0m \u001b[0mre\u001b[0m\u001b[1;33m.\u001b[0m\u001b[0mI\u001b[0m \u001b[1;33m|\u001b[0m \u001b[0mre\u001b[0m\u001b[1;33m.\u001b[0m\u001b[0mU\u001b[0m\u001b[1;33m)\u001b[0m\u001b[1;33m)\u001b[0m\u001b[1;33m:\u001b[0m\u001b[1;33m\u001b[0m\u001b[0m\n\u001b[0m\u001b[0;32m     10\u001b[0m             \u001b[0mx\u001b[0m \u001b[1;33m=\u001b[0m \u001b[0mre\u001b[0m\u001b[1;33m.\u001b[0m\u001b[0msearch\u001b[0m\u001b[1;33m(\u001b[0m\u001b[0mDate\u001b[0m\u001b[1;33m.\u001b[0m\u001b[0mdecode\u001b[0m\u001b[1;33m(\u001b[0m\u001b[1;34m'utf-8'\u001b[0m\u001b[1;33m)\u001b[0m\u001b[1;33m,\u001b[0m \u001b[0mline\u001b[0m\u001b[1;33m.\u001b[0m\u001b[0mdecode\u001b[0m\u001b[1;33m(\u001b[0m\u001b[1;34m'utf-8'\u001b[0m\u001b[1;33m)\u001b[0m\u001b[1;33m,\u001b[0m \u001b[0mre\u001b[0m\u001b[1;33m.\u001b[0m\u001b[0mI\u001b[0m \u001b[1;33m|\u001b[0m \u001b[0mre\u001b[0m\u001b[1;33m.\u001b[0m\u001b[0mU\u001b[0m\u001b[1;33m)\u001b[0m\u001b[1;33m\u001b[0m\u001b[0m\n\u001b[0;32m     11\u001b[0m             \u001b[0mprint\u001b[0m \u001b[1;33m(\u001b[0m\u001b[0mx\u001b[0m\u001b[1;33m.\u001b[0m\u001b[0mgroup\u001b[0m\u001b[1;33m(\u001b[0m\u001b[1;36m0\u001b[0m\u001b[1;33m)\u001b[0m\u001b[1;33m+\u001b[0m\u001b[1;34m\"\\n\"\u001b[0m\u001b[1;33m)\u001b[0m\u001b[1;33m\u001b[0m\u001b[0m\n",
      "\u001b[1;31mAttributeError\u001b[0m: 'str' object has no attribute 'decode'"
     ]
    }
   ],
   "source": [
    "i=0\n",
    "w, h = 8, 1;\n",
    "data = [[-1 for x in range(w)] for y in range(h)]\n",
    "#data = [[0,0,0,0,0,0,0,0,0,0] for line in range(10)]\n",
    "st = []\n",
    "out = open('out.csv', 'w')\n",
    "wtr= csv.writer( out )\n",
    "wtr.writerow(['Date','Year','DOB','Gender','Product Type','Face Amount'])\n",
    "#strs = [\"\" for x in range(size)]\n",
    "\n",
    "with open('under.csv',encoding = \"utf-8\") as f:\n",
    "    rows = csv.reader(f)\n",
    "    for row in rows:\n",
    "        print('\\n----------------------------------------------')\n",
    "        st.append(row[8])\n",
    "        reg(st,i)\n",
    "        #i+=1\n",
    "        st=[]\n",
    "        print (row[8])  \n",
    "\n",
    "out.close()\n"
   ]
  },
  {
   "cell_type": "code",
   "execution_count": null,
   "metadata": {
    "collapsed": true
   },
   "outputs": [],
   "source": []
  },
  {
   "cell_type": "code",
   "execution_count": null,
   "metadata": {
    "collapsed": true
   },
   "outputs": [],
   "source": []
  }
 ],
 "metadata": {
  "kernelspec": {
   "display_name": "Python 3",
   "language": "python",
   "name": "python3"
  },
  "language_info": {
   "codemirror_mode": {
    "name": "ipython",
    "version": 3
   },
   "file_extension": ".py",
   "mimetype": "text/x-python",
   "name": "python",
   "nbconvert_exporter": "python",
   "pygments_lexer": "ipython3",
   "version": "3.6.1"
  }
 },
 "nbformat": 4,
 "nbformat_minor": 2
}

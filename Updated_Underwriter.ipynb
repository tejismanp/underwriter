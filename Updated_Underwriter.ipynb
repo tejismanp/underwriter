{
 "cells": [
  {
   "cell_type": "code",
   "execution_count": 56,
   "metadata": {
    "collapsed": true
   },
   "outputs": [],
   "source": [
    "# coding: utf-8\n",
    "\n",
    "# # Importing Module\n",
    "# - pandas for formatting or provides table\n",
    "# - seabourn is wrapper over matplotlib\n",
    "\n",
    "# In[1]:\n",
    "\n",
    "import pandas as pd\n",
    "import numpy as np\n",
    "import matplotlib.pyplot as plt\n",
    "import seaborn as sns\n",
    "#get_ipython().magic('matplotlib inline')"
   ]
  },
  {
   "cell_type": "code",
   "execution_count": 57,
   "metadata": {},
   "outputs": [
    {
     "data": {
      "text/plain": [
       "'face updated\\nhad bypass in 2010. \\ntakes following medications:\\n1. metoprolol (blood pressure) - diagnosed 2014 - takes 25 mg daily \\n2. levothyroxine (thyroid) - diagnosed 2016 - takes 25 mg daily \\n'"
      ]
     },
     "execution_count": 57,
     "metadata": {},
     "output_type": "execute_result"
    }
   ],
   "source": [
    "# In[4]:\n",
    "\n",
    "df = pd.read_csv(\"before_after.csv\",encoding= \"utf-8\")\n",
    "df[\"Before\"][0]\n"
   ]
  },
  {
   "cell_type": "code",
   "execution_count": 58,
   "metadata": {
    "collapsed": true
   },
   "outputs": [],
   "source": [
    "from nltk.corpus import stopwords,wordnet as wn\n",
    "from nltk.tokenize import wordpunct_tokenize,sent_tokenize\n",
    "from nltk import pos_tag\n",
    "from nltk.stem.wordnet import WordNetLemmatizer\n",
    "import re\n",
    "\n",
    "\n",
    "# In[18]:"
   ]
  },
  {
   "cell_type": "code",
   "execution_count": 59,
   "metadata": {
    "collapsed": true
   },
   "outputs": [],
   "source": [
    "def rem_punt(doc):\n",
    "    ans = re.sub('\"|\\\\n|\\(|\\)|,|\\.|[$!--+@#:]',' ',doc)\n",
    "    ans = re.sub(' +',' ',ans)\n",
    "    ans = ans.lower()\n",
    "    return ans\n",
    "\n",
    "\n",
    "# In[19]:\n",
    "\n",
    "df['RmNoise'] = df['Before'].apply(rem_punt)\n",
    "\n",
    "\n",
    "# In[20]:\n",
    "\n",
    "stop_word = set(stopwords.words('english'))\n",
    "\n",
    "\n",
    "# In[21]:\n",
    "\n",
    "def tokenize(document): \n",
    "    lemmy = []\n",
    "    for sent in sent_tokenize(document):\n",
    "        for token, tag in pos_tag(wordpunct_tokenize(sent)):\n",
    "            #print(token,tag)\n",
    "            if token in stop_word:\n",
    "                 continue\n",
    "            lemma = lemmatize(token, tag)\n",
    "            lemmy.append(lemma)\n",
    "    return lemmy\n",
    "\n",
    "def lemmatize(token, tag):\n",
    "    tag = {\n",
    "          'N': wn.NOUN,\n",
    "          'V': wn.VERB,\n",
    "          'R': wn.ADV,\n",
    "          'J': wn.ADJ\n",
    "    }.get(tag[0], wn.NOUN)\n",
    "    lemmatizer = WordNetLemmatizer()\n",
    "    return lemmatizer.lemmatize(token, tag)"
   ]
  },
  {
   "cell_type": "code",
   "execution_count": 60,
   "metadata": {
    "collapsed": true
   },
   "outputs": [],
   "source": [
    "# In[22]:\n",
    "\n",
    "df['Lemmitize'] = df['RmNoise'].apply(tokenize)\n",
    "\n",
    "\n",
    "df.to_csv('Script2data.csv',index=False, encoding = \"utf-8\")"
   ]
  },
  {
   "cell_type": "code",
   "execution_count": 61,
   "metadata": {
    "collapsed": true
   },
   "outputs": [],
   "source": [
    "# In[25]:\n",
    "\n",
    "df = pd.read_csv('Script2data.csv')\n",
    "\n",
    "\n",
    "# # Statistical Modeling \n",
    "\n",
    "# In[26]:\n",
    "\n",
    "from sklearn.feature_extraction.text import TfidfVectorizer\n",
    "from sklearn.model_selection import train_test_split\n",
    "from sklearn.decomposition import TruncatedSVD\n",
    "from sklearn.pipeline import make_pipeline\n",
    "from sklearn.preprocessing import Normalizer,LabelEncoder\n",
    "from sklearn.metrics import accuracy_score,classification_report\n",
    "\n",
    "\n",
    "# In[28]:\n",
    "\n",
    "X = df['Lemmitize']\n",
    "y = df['Offer']\n",
    "#lab_y = LabelEncoder()\n",
    "#y = lab_y.fit_transform(y)"
   ]
  },
  {
   "cell_type": "code",
   "execution_count": 62,
   "metadata": {},
   "outputs": [
    {
     "data": {
      "text/plain": [
       "\"['face', 'update', 'bypass', '2010', 'take', 'follow', 'medication', '1', 'metoprolol', 'blood', 'pressure', 'diagnose', '2014', 'take', '25', 'mg', 'daily', '2', 'levothyroxine', 'thyroid', 'diagnose', '2016', 'take', '25', 'mg', 'daily']\""
      ]
     },
     "execution_count": 62,
     "metadata": {},
     "output_type": "execute_result"
    }
   ],
   "source": [
    "X[0]"
   ]
  },
  {
   "cell_type": "code",
   "execution_count": 63,
   "metadata": {
    "collapsed": true
   },
   "outputs": [],
   "source": [
    "# In[29]:\n",
    "\n",
    "X_train,X_test,y_train,y_test = train_test_split(X,y)\n",
    "\n",
    "\n",
    "# In[30]:\n",
    "\n",
    "vect = TfidfVectorizer(max_df=0.8, max_features=15000, min_df=0.01, use_idf=True , ngram_range=(1,3))"
   ]
  },
  {
   "cell_type": "code",
   "execution_count": 64,
   "metadata": {},
   "outputs": [
    {
     "data": {
      "text/plain": [
       "'\\nimport matplotlib.pyplot as plt \\n%matplotlib inline\\nplt.spy(vect)\\n'"
      ]
     },
     "execution_count": 64,
     "metadata": {},
     "output_type": "execute_result"
    }
   ],
   "source": [
    "\n",
    "#from xgboost.sklearn import XGBClassifier\n",
    "#model1 = XGBClassifier(nthread=4,n_estimators=1000)\n",
    "\n",
    "\n",
    "# Naive Bayes\n",
    "\n",
    "from sklearn.naive_bayes import GaussianNB,MultinomialNB\n",
    "model2 = GaussianNB()\n",
    "\n",
    "\n",
    "# ExtraTree Classifier\n",
    "\n",
    "from sklearn.ensemble import ExtraTreesClassifier,RandomForestClassifier\n",
    "model3 = RandomForestClassifier(n_estimators=600,n_jobs=-1)\n",
    "\n",
    "# SVM Classifier\n",
    "\n",
    "from sklearn.svm import SVC\n",
    "model4 = SVC()\n",
    "\n",
    "\n",
    "# Logistic Regression \n",
    "\n",
    "from sklearn.linear_model import LinearRegression,SGDClassifier,LogisticRegression\n",
    "model5 = LogisticRegression()\n",
    "\n",
    "from sklearn.discriminant_analysis import LinearDiscriminantAnalysis\n",
    "model6 = LinearDiscriminantAnalysis()\n",
    "'''\n",
    "import matplotlib.pyplot as plt \n",
    "%matplotlib inline\n",
    "plt.spy(vect)\n",
    "'''"
   ]
  },
  {
   "cell_type": "code",
   "execution_count": 102,
   "metadata": {},
   "outputs": [],
   "source": [
    "# Model Fitting\n",
    "\n",
    "import matplotlib.pyplot as plt\n",
    "from sklearn.metrics import classification_report\n",
    "from sklearn.metrics import accuracy_score\n",
    "from sklearn.metrics import confusion_matrix\n",
    "import time\n",
    "\n",
    "name = [] \n",
    "results = []\n",
    "matrix_confusion = []\n",
    "training_time = []\n",
    "prediction_time = []\n",
    "def model_making(model_name, vect , model , X_train , y_train , X_test , y_test):\n",
    "    \n",
    "    t1 =time.time()\n",
    "    clf = make_pipeline(vect,model)\n",
    "    clf.fit(X_train,y_train)\n",
    "    t2 = time.time()\n",
    "    training_time.append(t2-t1)\n",
    "    \n",
    "    t1 = time.time()\n",
    "    pd = clf.predict(X_test)\n",
    "    t2 = time.time()\n",
    "    prediction_time.append(t2-t1)\n",
    "    \n",
    "    y_pred = clf.predict(X_test)\n",
    "    name.append(model_name)\n",
    "    results.append(accuracy_score(y_test, y_pred)*100)\n",
    "    matrix_confusion.append(confusion_matrix(y_test, y_pred))\n",
    "    \n",
    "    #print (\"=====Accuracy Score \", \"{0:.2f}\".format(accuracy_score(y_test, y_pred)*100), \"%\")\n",
    "    #print (\"=====Confusion Matrix\")\n",
    "    #print (confusion_matrix(y_test, y_pred))\n",
    "    #target_names = ['class 0', 'class 1', 'class 2']\n",
    "    #print(classification_report(y_test, y_pred, target_names=target_names))\n",
    "    "
   ]
  },
  {
   "cell_type": "code",
   "execution_count": 103,
   "metadata": {},
   "outputs": [],
   "source": [
    "model_making(\"Random Forest\",vect, model3, X_train, y_train, X_test, y_test)"
   ]
  },
  {
   "cell_type": "code",
   "execution_count": 104,
   "metadata": {},
   "outputs": [],
   "source": [
    "model_making(\"SVM\" , vect, model4, X_train, y_train, X_test, y_test)"
   ]
  },
  {
   "cell_type": "code",
   "execution_count": 105,
   "metadata": {},
   "outputs": [],
   "source": [
    "model_making(\"LR\",vect, model5, X_train, y_train, X_test, y_test)"
   ]
  },
  {
   "cell_type": "code",
   "execution_count": 108,
   "metadata": {},
   "outputs": [
    {
     "name": "stdout",
     "output_type": "stream",
     "text": [
      "Random Forest   :- accuracy:     100.000     training time(s):      1.355      prediction time(s):           0.208s \n",
      " \n",
      "SVM             :- accuracy:      0.000      training time(s):      0.008      prediction time(s):           0.002s \n",
      " \n",
      "LR              :- accuracy:     100.000     training time(s):      0.006      prediction time(s):           0.003s \n",
      " \n"
     ]
    }
   ],
   "source": [
    "for i in range(len(name)):\n",
    "    print(\"{:15} :- accuracy: {:^15.3f} training time(s): {:^15.3f} prediction time(s): {:15.3f}s \\n \".format(name[i] , results[i] , training_time[i] , prediction_time[i] ) )"
   ]
  },
  {
   "cell_type": "code",
   "execution_count": 45,
   "metadata": {},
   "outputs": [
    {
     "data": {
      "text/plain": [
       "1    ['face', 'amount', '250', '000', 'follow', 'me...\n",
       "Name: Lemmitize, dtype: object"
      ]
     },
     "execution_count": 45,
     "metadata": {},
     "output_type": "execute_result"
    }
   ],
   "source": [
    "X_test\n"
   ]
  },
  {
   "cell_type": "code",
   "execution_count": null,
   "metadata": {
    "collapsed": true
   },
   "outputs": [],
   "source": []
  }
 ],
 "metadata": {
  "kernelspec": {
   "display_name": "Python 3",
   "language": "python",
   "name": "python3"
  },
  "language_info": {
   "codemirror_mode": {
    "name": "ipython",
    "version": 3
   },
   "file_extension": ".py",
   "mimetype": "text/x-python",
   "name": "python",
   "nbconvert_exporter": "python",
   "pygments_lexer": "ipython3",
   "version": "3.6.1"
  }
 },
 "nbformat": 4,
 "nbformat_minor": 2
}
